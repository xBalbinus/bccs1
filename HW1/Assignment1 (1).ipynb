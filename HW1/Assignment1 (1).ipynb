{
 "cells": [
  {
   "cell_type": "markdown",
   "metadata": {},
   "source": [
    "# Assignment 1"
   ]
  },
  {
   "cell_type": "markdown",
   "metadata": {},
   "source": [
    "## Problem 1: Perform a complex calculation"
   ]
  },
  {
   "cell_type": "markdown",
   "metadata": {},
   "source": [
    "The wind-chill factor is designed to measure how cold it feels based on the actual air temperature and the wind speed. It can be computed using the following formula:\n",
    "\n",
    "$$T_{wc}=35.74+0.6215T−35.75v^{0.16}+0.4275Tv^{0.16}$$\n",
    "\n",
    "Here $T_{wc}$ is the apparent temperature in degrees Fahrenheit, $T$ is actual air temperature, also in degrees Fahrenheit, and $v$ is the wind speed in miles per hour.\n",
    "\n",
    "(The formula is designed to approximate something like the temperature of the skin on your face if you are looking into the wind. It is not valid at temperatures above 50 degrees Fahrenheit, or for wind speeds less than 3 miles per hour.)\n",
    "\n",
    "**Write a Python expression to calculate the apparent temperature when the actual air temperature is 20 degrees Fahrenheit and the wind is blowing at 15 miles per hour.**\n",
    "\n",
    "Some rules to follow in this question and the following ones:\n",
    "\n",
    "* Try to make your code as efficient as possible: You should not have to perform the same computation more than once, nor enter either the actual temperature or wind speed more than once.\n",
    "\n",
    "* Perform a sanity check on your answer - if you get an apparent temperature that is more than the actual temperature, or an answer that is ridiculously low (feels like -120 degrees) then you certainly did something wrong, and you should go back and try to correct it.\n",
    "\n",
    "* Feel free to add as many cells as you need, but make sure to have only one line of code per cell."
   ]
  },
  {
   "cell_type": "code",
   "execution_count": 2,
   "metadata": {},
   "outputs": [
    {
     "name": "stdout",
     "output_type": "stream",
     "text": [
      "6.218885266083872\n"
     ]
    }
   ],
   "source": [
    "T = 20\n",
    "v = 15\n",
    "\n",
    "WC = 35.74 + 0.6215*T - 35.75*v**(0.16) + 0.4275*T*v**(0.16)\n",
    "print(WC)"
   ]
  },
  {
   "cell_type": "markdown",
   "metadata": {},
   "source": [
    "## Problem 2: Operator precedence "
   ]
  },
  {
   "cell_type": "markdown",
   "metadata": {},
   "source": [
    "**Question 1.** What is the precedence rule for an expression that contains two operators: one occurrence of $**$ one of the $*$ operator, such as $2**3*4$ or $6*2**2$? Does it depend on the order of the operation symbols in the expression, or does one of these operators have strictly higher precedence than the other? Devise an experiment (which will simply be the evaluation of several expressions) to determine the answer, and explain the result."
   ]
  },
  {
   "cell_type": "code",
   "execution_count": 6,
   "metadata": {},
   "outputs": [
    {
     "name": "stdout",
     "output_type": "stream",
     "text": [
      "32\n",
      "32\n",
      "24\n",
      "24\n"
     ]
    },
    {
     "data": {
      "text/plain": [
       "\"'\\nboth outputs are the same, operators follow PEMDAS operations precedence\\n\""
      ]
     },
     "execution_count": 6,
     "metadata": {},
     "output_type": "execute_result"
    }
   ],
   "source": [
    "p1 = 2**3 * 4\n",
    "p2 = 4*2 ** 3\n",
    "\n",
    "print(p1)\n",
    "print(p2)\n",
    "\n",
    "c1 = 6 * 2**2\n",
    "c2 = 2 ** 2*6\n",
    "\n",
    "print(c1)\n",
    "print(c2)\n",
    "\n",
    "''''\n",
    "both outputs are the same, operators follow PEMDAS operations precedence\n",
    "'''"
   ]
  },
  {
   "cell_type": "markdown",
   "metadata": {},
   "source": [
    "**Question 2.** What is the precedence rule for an expression that contains two occurrences of $**$ and no other operators? (For example, $2**3**4$.) Is it left-to-right evaluation as in expressions with two occurrences of $-$?"
   ]
  },
  {
   "cell_type": "code",
   "execution_count": 7,
   "metadata": {},
   "outputs": [
    {
     "name": "stdout",
     "output_type": "stream",
     "text": [
      "2417851639229258349412352\n",
      "262144\n"
     ]
    }
   ],
   "source": [
    "a1 = 2**3**4\n",
    "b1 = 4**3**2\n",
    "\n",
    "print(a1)\n",
    "print(b1)\n",
    "\n",
    "''''\n",
    "a1 > b1, ** operator follow PEMDAS operations precedence, left to right.\n",
    "'''"
   ]
  },
  {
   "cell_type": "markdown",
   "metadata": {},
   "source": [
    "## Problem 3: Extracting pieces of numbers"
   ]
  },
  {
   "cell_type": "markdown",
   "metadata": {},
   "source": [
    "**Question 1.** What are the (integer) quotient and remainder when you divide 4278 by 10? by 100? by 1000?"
   ]
  },
  {
   "cell_type": "code",
   "execution_count": 10,
   "metadata": {},
   "outputs": [
    {
     "name": "stdout",
     "output_type": "stream",
     "text": [
      "8\n",
      "78\n",
      "278\n"
     ]
    }
   ],
   "source": [
    "A = 4278%10\n",
    "B = 4278%100\n",
    "C = 4278%1000\n",
    "print(A)\n",
    "print(B)\n",
    "print(C)"
   ]
  },
  {
   "cell_type": "code",
   "execution_count": null,
   "metadata": {},
   "outputs": [],
   "source": []
  },
  {
   "cell_type": "code",
   "execution_count": null,
   "metadata": {},
   "outputs": [],
   "source": []
  },
  {
   "cell_type": "code",
   "execution_count": null,
   "metadata": {},
   "outputs": [],
   "source": []
  },
  {
   "cell_type": "code",
   "execution_count": null,
   "metadata": {},
   "outputs": [],
   "source": []
  },
  {
   "cell_type": "code",
   "execution_count": null,
   "metadata": {},
   "outputs": [],
   "source": []
  },
  {
   "cell_type": "markdown",
   "metadata": {},
   "source": [
    "**Question 2.** Now you can use what you learned in question 1. Suppose $x$ is a variable of type int whose value is at least 100. Using what you learned in the above problem, write a *single* expression to extract the third digit from the right in $x$. We will consider the case where $x$ is 4278, and the value of the expression should be the int 2. "
   ]
  },
  {
   "cell_type": "code",
   "execution_count": 19,
   "metadata": {},
   "outputs": [
    {
     "ename": "NameError",
     "evalue": "name 'get_value' is not defined",
     "output_type": "error",
     "traceback": [
      "\u001b[0;31m---------------------------------------------------------------------------\u001b[0m",
      "\u001b[0;31mNameError\u001b[0m                                 Traceback (most recent call last)",
      "\u001b[0;32m/tmp/ipykernel_49/2389575225.py\u001b[0m in \u001b[0;36m<module>\u001b[0;34m\u001b[0m\n\u001b[1;32m      1\u001b[0m \u001b[0mx\u001b[0m \u001b[0;34m=\u001b[0m \u001b[0;36m4278\u001b[0m\u001b[0;34m\u001b[0m\u001b[0;34m\u001b[0m\u001b[0m\n\u001b[0;32m----> 2\u001b[0;31m \u001b[0mget_value\u001b[0m\u001b[0;34m(\u001b[0m\u001b[0mx\u001b[0m\u001b[0;34m,\u001b[0m \u001b[0;36m3\u001b[0m\u001b[0;34m)\u001b[0m\u001b[0;34m\u001b[0m\u001b[0;34m\u001b[0m\u001b[0m\n\u001b[0m",
      "\u001b[0;31mNameError\u001b[0m: name 'get_value' is not defined"
     ]
    }
   ],
   "source": [
    "x = 4278\n"
   ]
  },
  {
   "cell_type": "code",
   "execution_count": 33,
   "metadata": {},
   "outputs": [
    {
     "data": {
      "text/plain": [
       "2"
      ]
     },
     "execution_count": 33,
     "metadata": {},
     "output_type": "execute_result"
    }
   ],
   "source": [
    "x=4278\n",
    "\n",
    "def get_digit(integer, place):\n",
    "    return integer // 10**place % 10\n",
    "\n",
    "get_digit(x, 2)\n",
    "\n",
    "''''\n",
    "get_digit first divides the integer by a power of 10 (which in this case is 100), shifting 2 to the ones' place\n",
    "taking the modulo 10 of the number in the ones place yields the number itself.\n",
    "'''"
   ]
  },
  {
   "cell_type": "markdown",
   "metadata": {},
   "source": [
    "## Problem 4: Working with strings"
   ]
  },
  {
   "cell_type": "markdown",
   "metadata": {},
   "source": [
    "**Question 1.** Write an expression whose value is the string $$aaaaaaaaaaaaaaaaaaaabbbbbbbbbbbbbbbbbbbb$$ (20 occurrences of a followed 20 occurrences of b.) Of course, the line above, enclosed in quotation marks, is just such an expression, but use string operations to write a much shorter expression with this value. It should be just as easy to do this if I asked for 200 occurrences of each letter instead of 20. (HINT: Remember those string operations.) "
   ]
  },
  {
   "cell_type": "code",
   "execution_count": 11,
   "metadata": {},
   "outputs": [
    {
     "name": "stdout",
     "output_type": "stream",
     "text": [
      "aaaaaaaaaaaaaaaaaaaabbbbbbbbbbbbbbbbbbbb\n"
     ]
    }
   ],
   "source": [
    "string = \"a\" * 20 + \"b\" * 20\n",
    "print(string)"
   ]
  },
  {
   "cell_type": "markdown",
   "metadata": {},
   "source": [
    "**Question 2.** Here's a little puzzle: Write a sequence of statements, the last of which should print the output\n",
    "\n",
    "$$\n",
    "\\text{\n",
    "\"What,\" Derek asked, \"did Alicia do when the policeman yelled 'Halt!'?\"}\n",
    "$$\n",
    "\n",
    "Your code can contain several lines, all of which, except the last, are assignment statements. You will have to use both single quotes and double quotes. You are not allowed to use the triple quotes \"\"\"--that makes it too easy!  "
   ]
  },
  {
   "cell_type": "code",
   "execution_count": 23,
   "metadata": {},
   "outputs": [
    {
     "name": "stdout",
     "output_type": "stream",
     "text": [
      "'What,' Derek asked, 'did Alicia do when the policeman yelled 'Halt'?'\n"
     ]
    }
   ],
   "source": [
    "pa = \"What,\"\n",
    "pb = \" Derek asked, \"\n",
    "pc = \"did Alicia do when the policeman yelled \"\n",
    "pd = \"Halt\"\n",
    "pe = \"?\"\n",
    "\n",
    "sequence = \"'\" + pa + \"'\" + pb + \"'\" + pc + \"'\" + pd + \"'\" + pe + \"'\"\n",
    "print(sequence)"
   ]
  },
  {
   "cell_type": "code",
   "execution_count": null,
   "metadata": {},
   "outputs": [],
   "source": []
  }
 ],
 "metadata": {
  "kernelspec": {
   "display_name": "Python 3 (ipykernel)",
   "language": "python",
   "name": "python3"
  },
  "language_info": {
   "codemirror_mode": {
    "name": "ipython",
    "version": 3
   },
   "file_extension": ".py",
   "mimetype": "text/x-python",
   "name": "python",
   "nbconvert_exporter": "python",
   "pygments_lexer": "ipython3",
   "version": "3.9.7"
  }
 },
 "nbformat": 4,
 "nbformat_minor": 4
}
