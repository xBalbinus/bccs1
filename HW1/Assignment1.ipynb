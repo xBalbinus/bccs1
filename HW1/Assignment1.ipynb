{
 "cells": [
  {
   "cell_type": "markdown",
   "metadata": {},
   "source": [
    "# Assignment 1"
   ]
  },
  {
   "cell_type": "markdown",
   "metadata": {},
   "source": [
    "## Problem 1: Perform a complex calculation"
   ]
  },
  {
   "cell_type": "markdown",
   "metadata": {},
   "source": [
    "The wind-chill factor is designed to measure how cold it feels based on the actual air temperature and the wind speed. It can be computed using the following formula:\n",
    "\n",
    "$$T_{wc}=35.74+0.6215T−35.75v^{0.16}+0.4275Tv^{0.16}$$\n",
    "\n",
    "Here $T_{wc}$ is the apparent temperature in degrees Fahrenheit, $T$ is actual air temperature, also in degrees Fahrenheit, and $v$ is the wind speed in miles per hour.\n",
    "\n",
    "(The formula is designed to approximate something like the temperature of the skin on your face if you are looking into the wind. It is not valid at temperatures above 50 degrees Fahrenheit, or for wind speeds less than 3 miles per hour.)\n",
    "\n",
    "**Write a Python expression to calculate the apparent temperature when the actual air temperature is 20 degrees Fahrenheit and the wind is blowing at 15 miles per hour.**\n",
    "\n",
    "Some rules to follow in this question and the following ones:\n",
    "\n",
    "* Try to make your code as efficient as possible: You should not have to perform the same computation more than once, nor enter either the actual temperature or wind speed more than once.\n",
    "\n",
    "* Perform a sanity check on your answer - if you get an apparent temperature that is more than the actual temperature, or an answer that is ridiculously low (feels like -120 degrees) then you certainly did something wrong, and you should go back and try to correct it.\n",
    "\n",
    "* Feel free to add as many cells as you need, but make sure to have only one line of code per cell."
   ]
  },
  {
   "cell_type": "code",
   "execution_count": null,
   "metadata": {},
   "outputs": [],
   "source": []
  },
  {
   "cell_type": "markdown",
   "metadata": {},
   "source": [
    "## Problem 2: Operator precedence "
   ]
  },
  {
   "cell_type": "markdown",
   "metadata": {},
   "source": [
    "**Question 1.** What is the precedence rule for an expression that contains two operators: one occurrence of $**$ one of the $*$ operator, such as $2**3*4$ or $6*2**2$? Does it depend on the order of the operation symbols in the expression, or does one of these operators have strictly higher precedence than the other? Devise an experiment (which will simply be the evaluation of several expressions) to determine the answer, and explain the result."
   ]
  },
  {
   "cell_type": "code",
   "execution_count": null,
   "metadata": {},
   "outputs": [],
   "source": []
  },
  {
   "cell_type": "markdown",
   "metadata": {},
   "source": [
    "**Question 2.** What is the precedence rule for an expression that contains two occurrences of $**$ and no other operators? (For example, $2**3**4$.) Is it left-to-right evaluation as in expressions with two occurrences of $-$?"
   ]
  },
  {
   "cell_type": "code",
   "execution_count": null,
   "metadata": {},
   "outputs": [],
   "source": []
  },
  {
   "cell_type": "markdown",
   "metadata": {},
   "source": [
    "## Problem 3: Extracting pieces of numbers"
   ]
  },
  {
   "cell_type": "markdown",
   "metadata": {},
   "source": [
    "**Question 1.** What are the (integer) quotient and remainder when you divide 4278 by 10? by 100? by 1000?"
   ]
  },
  {
   "cell_type": "code",
   "execution_count": null,
   "metadata": {},
   "outputs": [],
   "source": []
  },
  {
   "cell_type": "code",
   "execution_count": null,
   "metadata": {},
   "outputs": [],
   "source": []
  },
  {
   "cell_type": "code",
   "execution_count": null,
   "metadata": {},
   "outputs": [],
   "source": []
  },
  {
   "cell_type": "code",
   "execution_count": null,
   "metadata": {},
   "outputs": [],
   "source": []
  },
  {
   "cell_type": "code",
   "execution_count": null,
   "metadata": {},
   "outputs": [],
   "source": []
  },
  {
   "cell_type": "code",
   "execution_count": null,
   "metadata": {},
   "outputs": [],
   "source": []
  },
  {
   "cell_type": "markdown",
   "metadata": {},
   "source": [
    "**Question 2.** Now you can use what you learned in question 1. Suppose $x$ is a variable of type int whose value is at least 100. Using what you learned in the above problem, write a *single* expression to extract the third digit from the right in $x$. We will consider the case where $x$ is 4278, and the value of the expression should be the int 2. "
   ]
  },
  {
   "cell_type": "code",
   "execution_count": 1,
   "metadata": {},
   "outputs": [],
   "source": [
    "x = 4278"
   ]
  },
  {
   "cell_type": "code",
   "execution_count": null,
   "metadata": {},
   "outputs": [],
   "source": []
  },
  {
   "cell_type": "markdown",
   "metadata": {},
   "source": [
    "## Problem 4: Working with strings"
   ]
  },
  {
   "cell_type": "markdown",
   "metadata": {},
   "source": [
    "**Question 1.** Write an expression whose value is the string $$aaaaaaaaaaaaaaaaaaaabbbbbbbbbbbbbbbbbbbb$$ (20 occurrences of a followed 20 occurrences of b.) Of course, the line above, enclosed in quotation marks, is just such an expression, but use string operations to write a much shorter expression with this value. It should be just as easy to do this if I asked for 200 occurrences of each letter instead of 20. (HINT: Remember those string operations.) "
   ]
  },
  {
   "cell_type": "code",
   "execution_count": null,
   "metadata": {},
   "outputs": [],
   "source": []
  },
  {
   "cell_type": "markdown",
   "metadata": {},
   "source": [
    "**Question 2.** Here's a little puzzle: Write a sequence of statements, the last of which should print the output\n",
    "\n",
    "$$\n",
    "\\text{\n",
    "\"What,\" Derek asked, \"did Alicia do when the policeman yelled 'Halt!'?\"}\n",
    "$$\n",
    "\n",
    "Your code can contain several lines, all of which, except the last, are assignment statements. You will have to use both single quotes and double quotes. You are not allowed to use the triple quotes \"\"\"--that makes it too easy!  "
   ]
  },
  {
   "cell_type": "code",
   "execution_count": null,
   "metadata": {},
   "outputs": [],
   "source": []
  }
 ],
 "metadata": {
  "kernelspec": {
   "display_name": "Python 3 (ipykernel)",
   "language": "python",
   "name": "python3"
  },
  "language_info": {
   "codemirror_mode": {
    "name": "ipython",
    "version": 3
   },
   "file_extension": ".py",
   "mimetype": "text/x-python",
   "name": "python",
   "nbconvert_exporter": "python",
   "pygments_lexer": "ipython3",
   "version": "3.8.2"
  }
 },
 "nbformat": 4,
 "nbformat_minor": 4
}
